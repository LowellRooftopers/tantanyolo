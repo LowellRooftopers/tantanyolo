{
  "nbformat": 4,
  "nbformat_minor": 0,
  "metadata": {
    "colab": {
      "name": "yolo",
      "provenance": [],
      "private_outputs": true
    },
    "kernelspec": {
      "name": "python3",
      "display_name": "Python 3"
    },
    "language_info": {
      "name": "python"
    },
    "accelerator": "GPU"
  },
  "cells": [
    {
      "cell_type": "code",
      "execution_count": null,
      "metadata": {
        "id": "bafO1j6Dgtsd"
      },
      "outputs": [],
      "source": [
        "!unzip -q /content/drive/MyDrive/train_data.zip -d /content/"
      ]
    },
    {
      "cell_type": "code",
      "source": [
        "#cloningg yolov5 \n",
        "!git clone https://github.com/ultralytics/yolov5"
      ],
      "metadata": {
        "id": "T4D_fXk_VWIO"
      },
      "execution_count": null,
      "outputs": []
    },
    {
      "cell_type": "code",
      "source": [
        "# installing requirements\n",
        "%cd /content/drive/MyDrive/yolov5\n",
        "%pip install -r requirements.txt"
      ],
      "metadata": {
        "id": "gKjWOcO0hNft"
      },
      "execution_count": null,
      "outputs": []
    },
    {
      "cell_type": "code",
      "source": [
        "#checking if gpu is used\n",
        "import torch\n",
        "\n",
        "from IPython.display import Image, clear_output  # to display images\n",
        "\n",
        "# clear_output()\n",
        "print('Setup complete. Using torch %s %s' % (torch.__version__, torch.cuda.get_device_properties(0) if torch.cuda.is_available() else 'CPU'))"
      ],
      "metadata": {
        "id": "88yHZTXahhSJ"
      },
      "execution_count": null,
      "outputs": []
    },
    {
      "cell_type": "code",
      "source": [
        "#cloning yolov5 model weights\n",
        "!git clone https://github.com/ultralytics/yolov5.git"
      ],
      "metadata": {
        "id": "TwvltvtghmqJ"
      },
      "execution_count": null,
      "outputs": []
    },
    {
      "cell_type": "code",
      "source": [
        "#training\n",
        "%cd /content/drive/MyDrive/yolov5\n",
        "!python train.py --img 640 --batch 16 --epochs 500 --data dataset.yaml --weights yolov5x.pt"
      ],
      "metadata": {
        "id": "IH3HOSIqjeie"
      },
      "execution_count": null,
      "outputs": []
    },
    {
      "cell_type": "code",
      "source": [
        "%load_ext tensorboard\n",
        "%tensorboard --logdir runs/train"
      ],
      "metadata": {
        "id": "QOEgtXxfmkjp"
      },
      "execution_count": null,
      "outputs": []
    },
    {
      "cell_type": "code",
      "source": [
        "#resuming training\n",
        "!python train.py --weights /content/yolov5/runs/train/exp/weights/last.pt --epochs 500 --img 640"
      ],
      "metadata": {
        "id": "AvAIdQUZmov5"
      },
      "execution_count": null,
      "outputs": []
    },
    {
      "cell_type": "code",
      "source": [
        "from google.colab import drive\n",
        "drive.mount('/content/drive')"
      ],
      "metadata": {
        "id": "AhCotuQXm_KB"
      },
      "execution_count": null,
      "outputs": []
    },
    {
      "cell_type": "code",
      "source": [
        ""
      ],
      "metadata": {
        "id": "EVtfbXjMabPD"
      },
      "execution_count": null,
      "outputs": []
    },
    {
      "cell_type": "code",
      "source": [
        "\n"
      ],
      "metadata": {
        "id": "lWufBGB3cDAr"
      },
      "execution_count": null,
      "outputs": []
    }
  ]
}